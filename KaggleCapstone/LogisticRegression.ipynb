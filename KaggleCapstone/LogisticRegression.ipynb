{
 "cells": [
  {
   "cell_type": "code",
   "execution_count": null,
   "metadata": {},
   "outputs": [],
   "source": [
    "#Varad Nerlekar\n",
    "#Logistic Regression Practice Code"
   ]
  },
  {
   "cell_type": "code",
   "execution_count": null,
   "metadata": {},
   "outputs": [],
   "source": [
    "import pandas as pd\n",
    "import numpy as np\n",
    "import matplotlib.pyplot as plt\n",
    "\n",
    "from sklearn.model_selection import train_test_split\n",
    "from sklearn.metrics import accuracy_score\n",
    "\n",
    "from sklearn.linear_model import LogisticRegression"
   ]
  },
  {
   "cell_type": "code",
   "execution_count": null,
   "metadata": {},
   "outputs": [],
   "source": [
    "rawdata = pd.read_csv(\"train.csv\")"
   ]
  },
  {
   "cell_type": "code",
   "execution_count": null,
   "metadata": {},
   "outputs": [],
   "source": [
    "rawdata.head(10)"
   ]
  },
  {
   "cell_type": "code",
   "execution_count": null,
   "metadata": {},
   "outputs": [],
   "source": [
    "rawdata.info()"
   ]
  },
  {
   "cell_type": "code",
   "execution_count": null,
   "metadata": {},
   "outputs": [],
   "source": [
    "rawdata.isna().sum()"
   ]
  },
  {
   "cell_type": "code",
   "execution_count": null,
   "metadata": {},
   "outputs": [],
   "source": [
    "def initSex(df):\n",
    "    df['Sex'] = df['Sex'].map({'male': 2, 'female': 1}).astype(int)\n",
    "    return df\n",
    "\n",
    "def initEmbarked(df):\n",
    "    df['Embarked'] = df['Embarked'].fillna('S')\n",
    "    df['Embarked'] = df['Embarked'].map({'C': 1, 'S': 2,'Q': 3})\n",
    "    return df\n",
    "\n",
    "def initAge(df):\n",
    "    meanAge = df['Age'].mean()\n",
    "    standardAge = df['Age'].std()\n",
    "    nanAgeCount = df['Age'].isna().sum()\n",
    "    upperLimit = meanAge+standardAge\n",
    "    lowerLimit = meanAge-standardAge\n",
    "    randomiserList = np.random.randint(lowerLimit,upperLimit,nanAgeCount)\n",
    "    df.loc[df['Age'].isnull(), 'Age'] = randomiserList\n",
    "    return df\n",
    "\n",
    "def initCabin(df):\n",
    "    df['CabinFlag'] = df['Cabin'].apply(lambda x: 0 if type(x)==float else 1)\n",
    "    return df\n",
    "\n",
    "def initFeatures(df):\n",
    "    df['AgeClass'] = df.loc[:,'Age']*df.loc[:,'Pclass']\n",
    "    df['SexAge'] = df.loc[:,'Sex']*df.loc[:,'Age']\n",
    "    return df\n",
    "\n",
    "def dropCols(df):\n",
    "    df = df.drop(\"Name\",axis=1)\n",
    "    df = df.drop(\"Ticket\",axis=1)\n",
    "    df = df.drop(\"Cabin\",axis=1)\n",
    "    return df\n",
    "    \n",
    "def newdata(df):\n",
    "    df = initSex(df)\n",
    "    df = initEmbarked(df)\n",
    "    df = initAge(df)\n",
    "    df = initCabin(df)\n",
    "    df = initFeatures(df)\n",
    "    df = dropCols(df)\n",
    "    return df"
   ]
  },
  {
   "cell_type": "code",
   "execution_count": null,
   "metadata": {},
   "outputs": [],
   "source": [
    "newdata = newdata(rawdata)"
   ]
  },
  {
   "cell_type": "code",
   "execution_count": null,
   "metadata": {},
   "outputs": [],
   "source": [
    "newdata.head(10)"
   ]
  },
  {
   "cell_type": "code",
   "execution_count": null,
   "metadata": {},
   "outputs": [],
   "source": [
    "newdata.isna().sum()"
   ]
  },
  {
   "cell_type": "code",
   "execution_count": null,
   "metadata": {},
   "outputs": [],
   "source": [
    "def graph(df):\n",
    "    for i in range(2,len(df.columns)):\n",
    "        Parameters = df.columns[i]\n",
    "        plt.hist(x = [df[df['Survived']==1][Parameters], df[df['Survived']==0][Parameters]], label = ['Survived','Dead'])\n",
    "        plt.title('Survival')\n",
    "        plt.xlabel(Parameters)\n",
    "        plt.ylabel('Number of Passengers')\n",
    "        plt.legend()\n",
    "        plt.show()"
   ]
  },
  {
   "cell_type": "code",
   "execution_count": null,
   "metadata": {},
   "outputs": [],
   "source": [
    "graph(newdata)"
   ]
  },
  {
   "cell_type": "code",
   "execution_count": null,
   "metadata": {},
   "outputs": [],
   "source": [
    "train_x, test_x, train_y, test_y = train_test_split(\n",
    "    newdata.loc[:, ('Pclass','Sex','Age','SibSp','Parch','Embarked','CabinFlag','AgeClass','SexAge')], newdata.loc[:, ('Survived')], test_size=0.01, random_state=6)"
   ]
  },
  {
   "cell_type": "code",
   "execution_count": null,
   "metadata": {},
   "outputs": [],
   "source": [
    "logisticRegression = LogisticRegression()\n",
    "logisticRegression.fit(train_x, train_y)\n",
    "predictions = logisticRegression.predict(test_x)\n",
    "accuracyLogistic = accuracy_score(test_y, predictions)\n",
    "print('Test Accuracy for Logistic Regression: ', accuracyLogistic)"
   ]
  },
  {
   "cell_type": "code",
   "execution_count": null,
   "metadata": {},
   "outputs": [],
   "source": []
  }
 ],
 "metadata": {
  "kernelspec": {
   "display_name": "Python 3",
   "language": "python",
   "name": "python3"
  },
  "language_info": {
   "codemirror_mode": {
    "name": "ipython",
    "version": 3
   },
   "file_extension": ".py",
   "mimetype": "text/x-python",
   "name": "python",
   "nbconvert_exporter": "python",
   "pygments_lexer": "ipython3",
   "version": "3.7.3"
  }
 },
 "nbformat": 4,
 "nbformat_minor": 2
}
